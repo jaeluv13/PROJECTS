{
 "cells": [
  {
   "cell_type": "code",
   "execution_count": null,
   "metadata": {},
   "outputs": [],
   "source": [
    "TAX CALCULATOR"
   ]
  },
  {
   "cell_type": "code",
   "execution_count": null,
   "metadata": {},
   "outputs": [],
   "source": [
    "n = int(input('Enter a cost : $'))\n",
    "m = int(input('Enter a city or state tax: '))\n",
    "\n",
    "print(f'Tax is equal to {(m/100)*n}')\n",
    "print(f'Which brings the total cost to {n +((m/100)*n)}')\n"
   ]
  },
  {
   "cell_type": "code",
   "execution_count": null,
   "metadata": {},
   "outputs": [],
   "source": [
    "RETURN A VALUE TO THE NTH DIGIT"
   ]
  },
  {
   "cell_type": "code",
   "execution_count": null,
   "metadata": {},
   "outputs": [],
   "source": [
    "st = '2465326453264832643287'\n",
    "n = int(input('Enter a number : '))\n",
    "y = list(map(int, st))\n",
    "print(y)\n",
    "print(y[0:n:1]\n",
    "def join_int(lst):\n",
    "    d = str(i) for I in lst\n",
    "    result = int(''.join(d))\n",
    "    return result\n",
    "print(join_int(y[0:n:1]))"
   ]
  },
  {
   "cell_type": "code",
   "execution_count": null,
   "metadata": {},
   "outputs": [],
   "source": []
  },
  {
   "cell_type": "code",
   "execution_count": null,
   "metadata": {},
   "outputs": [],
   "source": [
    "FIND PI TO THE NTH DIGIT"
   ]
  },
  {
   "cell_type": "code",
   "execution_count": null,
   "metadata": {},
   "outputs": [],
   "source": [
    "import math \n",
    "\n",
    "def find_pi(nth):\n",
    "    placepi = round(math.pi,nth);\n",
    "    pi = str(placepi)\n",
    "    lst = list(pi)\n",
    "\n",
    "    return placepi;\n",
    "roundTo = input('Enter the number of digits you want after the decimal for Pi: ')\n",
    "\n",
    "try:\n",
    "    roundint = int(roundTo);\n",
    "    print(find_pi(roundint));\n",
    "except:\n",
    "    print(\"You did not enter an integer\");     "
   ]
  },
  {
   "cell_type": "code",
   "execution_count": null,
   "metadata": {},
   "outputs": [],
   "source": [
    "COIN FLIP SIMULATION"
   ]
  },
  {
   "cell_type": "code",
   "execution_count": null,
   "metadata": {},
   "outputs": [],
   "source": [
    "import random\n",
    "\n",
    "coin_flip = ('heads', 'tails')\n",
    "y = random.choice(coin_flip)\n",
    "print(y)\n",
    "heads = 0\n",
    "tails = 0\n",
    "while heads < 10 and tails < 10:\n",
    "    for y in coin_flip:\n",
    "        if y == 'heads':\n",
    "            \n",
    "            heads += 1\n",
    "        elif y == 'tails':\n",
    "            tails += 1\n",
    "\n",
    "print (heads, tails)"
   ]
  },
  {
   "cell_type": "code",
   "execution_count": null,
   "metadata": {},
   "outputs": [],
   "source": []
  },
  {
   "cell_type": "code",
   "execution_count": null,
   "metadata": {},
   "outputs": [],
   "source": [
    "FAST EXPONENTATION"
   ]
  },
  {
   "cell_type": "code",
   "execution_count": null,
   "metadata": {},
   "outputs": [],
   "source": [
    "a = int(input('Enter a value for a: '))\n",
    "b = int(input('Enter a value for b : '))\n",
    "\n",
    "print(a**b)"
   ]
  },
  {
   "cell_type": "code",
   "execution_count": null,
   "metadata": {},
   "outputs": [],
   "source": []
  },
  {
   "cell_type": "code",
   "execution_count": null,
   "metadata": {},
   "outputs": [],
   "source": [
    "STRING REVERSE"
   ]
  },
  {
   "cell_type": "code",
   "execution_count": null,
   "metadata": {},
   "outputs": [],
   "source": [
    "n = str(input('Enter a word: '))\n",
    "reverse = n[::-1]\n",
    "print(reverse)"
   ]
  },
  {
   "cell_type": "code",
   "execution_count": null,
   "metadata": {},
   "outputs": [],
   "source": []
  },
  {
   "cell_type": "code",
   "execution_count": null,
   "metadata": {},
   "outputs": [],
   "source": [
    "REPLACE PRACTICE"
   ]
  },
  {
   "cell_type": "code",
   "execution_count": null,
   "metadata": {},
   "outputs": [],
   "source": [
    "x= 'devil'\n",
    "s= x.replace('d', 'c')\n",
    "y = s.replace('e', 'i')\n",
    "n = 'ity'\n",
    "print(y + n)"
   ]
  },
  {
   "cell_type": "code",
   "execution_count": null,
   "metadata": {},
   "outputs": [],
   "source": [
    "PRIMES IN 100"
   ]
  },
  {
   "cell_type": "code",
   "execution_count": null,
   "metadata": {},
   "outputs": [],
   "source": [
    "x = list(range(100))\n",
    "for values in list(x):\n",
    "    if values % 2 == 0 or values % 3 == 0 or values % 5 ==0:\n",
    "        x.remove(values)\n",
    "    elif values % 7 ==0 or values % 11 == 0:\n",
    "        x.remove(values)\n",
    "x.insert(1, 2)\n",
    "x.insert(2, 3)\n",
    "x.insert(3, 5)\n",
    "x.insert(4, 7)\n",
    "x.insert(5, 11)\n",
    "print(x)\n",
    "    "
   ]
  },
  {
   "cell_type": "code",
   "execution_count": null,
   "metadata": {},
   "outputs": [],
   "source": [
    "PIG LATIN"
   ]
  },
  {
   "cell_type": "code",
   "execution_count": null,
   "metadata": {},
   "outputs": [],
   "source": [
    "n = str(input('Enter a word: '))\n",
    "x = list(map(str,n))\n",
    "lst = [str(x[0]), 'ay']\n",
    "x.extend(lst)\n",
    "x.remove(x[0])\n",
    "\n",
    "def join_str(string):\n",
    "    d=[i for i in string]\n",
    "    result = ''.join(d)\n",
    "    return result\n",
    "print(join_str(x))\n"
   ]
  },
  {
   "cell_type": "code",
   "execution_count": null,
   "metadata": {},
   "outputs": [],
   "source": [
    "VOWEL COUNT"
   ]
  },
  {
   "cell_type": "code",
   "execution_count": null,
   "metadata": {},
   "outputs": [],
   "source": [
    "n = str(input('Enter a word: '))\n",
    "vowel_count=0\n",
    "for x in n:\n",
    "    if x == 'a' or x=='e' or x=='i' or x=='o' or x=='u':\n",
    "        vowel_count=vowel_count+1\n",
    "        print(vowel_count)\n",
    "            "
   ]
  },
  {
   "cell_type": "code",
   "execution_count": null,
   "metadata": {},
   "outputs": [],
   "source": []
  },
  {
   "cell_type": "code",
   "execution_count": null,
   "metadata": {},
   "outputs": [],
   "source": [
    "FACOTRIZATION"
   ]
  },
  {
   "cell_type": "code",
   "execution_count": null,
   "metadata": {},
   "outputs": [],
   "source": [
    "n = int(input('Please enter a number: '))\n",
    "a =[1, 2, 3, 5, 7, 9, 11, n]\n",
    "for x in a:\n",
    "    if n % x == 0:\n",
    "        print(f'A prime factor of {n} is {x}')\n",
    "\n",
    "        "
   ]
  },
  {
   "cell_type": "code",
   "execution_count": null,
   "metadata": {},
   "outputs": [],
   "source": []
  },
  {
   "cell_type": "code",
   "execution_count": null,
   "metadata": {},
   "outputs": [],
   "source": [
    "CHANGE RETURN PROGRAM"
   ]
  },
  {
   "cell_type": "code",
   "execution_count": null,
   "metadata": {},
   "outputs": [],
   "source": [
    "n = int(input('Please enter the amount given: '))\n",
    "m = int(input('Please enter cost of item: '))\n",
    "\n",
    "a = [0.25, 0.10, 0.05, 0.01]\n",
    "\n",
    "y = n - m \n",
    "\n",
    "for x in a :\n",
    "    if y % x == 0 :\n",
    "        b =int(y/x)\n",
    "        print(f'Your change is ${y}\\nYou need {b} {x} coins')\n"
   ]
  },
  {
   "cell_type": "code",
   "execution_count": null,
   "metadata": {},
   "outputs": [],
   "source": []
  },
  {
   "cell_type": "code",
   "execution_count": null,
   "metadata": {},
   "outputs": [],
   "source": [
    "BASIC OPERATIONS"
   ]
  },
  {
   "cell_type": "code",
   "execution_count": null,
   "metadata": {},
   "outputs": [],
   "source": [
    "n = int(input('Enter your first number: '))\n",
    "m = int(input('Enter your second number: '))\n",
    "o  = str(input('Please choose a function\\nmultiplication(m)\\ndivision(d)\\naddition(a)\\nsubtraction(s)'))\n",
    "\n",
    "def multiplication(x):\n",
    "    if o == 'm':\n",
    "        print(f'the answer is {m*n} by multiplication')\n",
    "multiplication(x)\n",
    "\n",
    "def division(y):\n",
    "    if o == 'd':\n",
    "        print(f'the answer is {n/m}]  by division')\n",
    "division(y)\n",
    "\n",
    "def addition(z):\n",
    "    if o == 'a':\n",
    "        print(f'the answer is {n+m}by addition ')\n",
    "addition(x)\n",
    "\n",
    "def subtraction(y):\n",
    "    if o == 's':\n",
    "        print(f'the answer is {n-m} by subtraction')\n",
    "subtraction(y)\n",
    "    "
   ]
  },
  {
   "cell_type": "code",
   "execution_count": null,
   "metadata": {},
   "outputs": [],
   "source": [
    " STRING PALINDROME CHECKER"
   ]
  },
  {
   "cell_type": "code",
   "execution_count": null,
   "metadata": {},
   "outputs": [],
   "source": [
    "n = str(input('Enter a word without spaces: '))\n",
    "if n[::-1] == n:\n",
    "    print(f'True, the word \"{n}\", is a palindrome')\n",
    "else:\n",
    "    print(F'Oops! looks like your word \"{n}\" isnt a palindrome\\nWhen read backwards your word is \"{n[::-1]}\"')"
   ]
  },
  {
   "cell_type": "code",
   "execution_count": null,
   "metadata": {},
   "outputs": [],
   "source": []
  },
  {
   "cell_type": "code",
   "execution_count": null,
   "metadata": {},
   "outputs": [],
   "source": [
    "CODEACADEMY PRACTICE"
   ]
  },
  {
   "cell_type": "code",
   "execution_count": null,
   "metadata": {},
   "outputs": [],
   "source": [
    "grades = [100, 100, 90, 40, 80, 100, 85, 70, 90, 65, 90, 85, 50.5]\n",
    "\n",
    "def print_grades(grades_input):\n",
    "  for grade in grades_input:\n",
    "    print(grade)\n",
    "\n",
    "def grades_sum(scores):\n",
    "  total = 0\n",
    "  for score in scores: \n",
    "    total += score\n",
    "  return total\n",
    "    \n",
    "def grades_average(grades_input):\n",
    "  sum_of_grades = grades_sum(grades_input)\n",
    "  average = sum_of_grades / len(grades_input)\n",
    "  return average\n",
    "\n",
    "def grades_variance(grades):\n",
    "    variance = 0\n",
    "    for number in grades:\n",
    "        variance += (grades_average(grades) - number) ** 2\n",
    "    return variance / len(grades)\n",
    "\n",
    "variance = grades_variance(grades)\n",
    "\n",
    "for grade in grades:\n",
    "    print(grade)\n",
    "print('The sum of the grades is {}' .format(grades_sum(grades)))\n",
    "print('The average of the grades is {}' .format(grades_average(grades)))\n",
    "print('The grade variance is {}' .format(grades_variance(grades)))"
   ]
  },
  {
   "cell_type": "code",
   "execution_count": null,
   "metadata": {},
   "outputs": [],
   "source": []
  },
  {
   "cell_type": "code",
   "execution_count": null,
   "metadata": {},
   "outputs": [],
   "source": []
  },
  {
   "cell_type": "code",
   "execution_count": null,
   "metadata": {},
   "outputs": [],
   "source": []
  },
  {
   "cell_type": "code",
   "execution_count": null,
   "metadata": {},
   "outputs": [],
   "source": []
  },
  {
   "cell_type": "code",
   "execution_count": null,
   "metadata": {},
   "outputs": [],
   "source": []
  }
 ],
 "metadata": {
  "kernelspec": {
   "display_name": "Python 3",
   "language": "python",
   "name": "python3"
  },
  "language_info": {
   "codemirror_mode": {
    "name": "ipython",
    "version": 3
   },
   "file_extension": ".py",
   "mimetype": "text/x-python",
   "name": "python",
   "nbconvert_exporter": "python",
   "pygments_lexer": "ipython3",
   "version": "3.7.3"
  }
 },
 "nbformat": 4,
 "nbformat_minor": 2
}
